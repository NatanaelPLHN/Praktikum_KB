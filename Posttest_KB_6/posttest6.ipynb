{
 "cells": [
  {
   "cell_type": "markdown",
   "metadata": {},
   "source": [
    "### Import library"
   ]
  },
  {
   "cell_type": "code",
   "execution_count": 1,
   "metadata": {},
   "outputs": [],
   "source": [
    "import pandas as pd\n",
    "import numpy as np\n",
    "import matplotlib.pyplot as plt\n",
    "from sklearn.model_selection import train_test_split\n",
    "from sklearn.preprocessing import MinMaxScaler\n",
    "from sklearn.preprocessing import StandardScaler\n",
    "from sklearn.impute import SimpleImputer\n",
    "from sklearn.preprocessing import OneHotEncoder\n",
    "from sklearn.preprocessing import LabelEncoder\n",
    "from tensorflow.keras import Sequential, layers\n",
    "from sklearn.metrics import accuracy_score\n"
   ]
  },
  {
   "cell_type": "markdown",
   "metadata": {},
   "source": [
    "### Import dataset "
   ]
  },
  {
   "cell_type": "code",
   "execution_count": 2,
   "metadata": {},
   "outputs": [
    {
     "data": {
      "text/html": [
       "<div>\n",
       "<style scoped>\n",
       "    .dataframe tbody tr th:only-of-type {\n",
       "        vertical-align: middle;\n",
       "    }\n",
       "\n",
       "    .dataframe tbody tr th {\n",
       "        vertical-align: top;\n",
       "    }\n",
       "\n",
       "    .dataframe thead th {\n",
       "        text-align: right;\n",
       "    }\n",
       "</style>\n",
       "<table border=\"1\" class=\"dataframe\">\n",
       "  <thead>\n",
       "    <tr style=\"text-align: right;\">\n",
       "      <th></th>\n",
       "      <th>Posted On</th>\n",
       "      <th>BHK</th>\n",
       "      <th>Rent</th>\n",
       "      <th>Size</th>\n",
       "      <th>Floor</th>\n",
       "      <th>Area Type</th>\n",
       "      <th>Area Locality</th>\n",
       "      <th>City</th>\n",
       "      <th>Furnishing Status</th>\n",
       "      <th>Tenant Preferred</th>\n",
       "      <th>Bathroom</th>\n",
       "      <th>Point of Contact</th>\n",
       "    </tr>\n",
       "  </thead>\n",
       "  <tbody>\n",
       "    <tr>\n",
       "      <th>0</th>\n",
       "      <td>2022-05-18</td>\n",
       "      <td>2</td>\n",
       "      <td>10000</td>\n",
       "      <td>1100</td>\n",
       "      <td>Ground out of 2</td>\n",
       "      <td>Super Area</td>\n",
       "      <td>Bandel</td>\n",
       "      <td>Kolkata</td>\n",
       "      <td>Unfurnished</td>\n",
       "      <td>Bachelors/Family</td>\n",
       "      <td>2</td>\n",
       "      <td>Contact Owner</td>\n",
       "    </tr>\n",
       "    <tr>\n",
       "      <th>1</th>\n",
       "      <td>2022-05-13</td>\n",
       "      <td>2</td>\n",
       "      <td>20000</td>\n",
       "      <td>800</td>\n",
       "      <td>1 out of 3</td>\n",
       "      <td>Super Area</td>\n",
       "      <td>Phool Bagan, Kankurgachi</td>\n",
       "      <td>Kolkata</td>\n",
       "      <td>Semi-Furnished</td>\n",
       "      <td>Bachelors/Family</td>\n",
       "      <td>1</td>\n",
       "      <td>Contact Owner</td>\n",
       "    </tr>\n",
       "    <tr>\n",
       "      <th>2</th>\n",
       "      <td>2022-05-16</td>\n",
       "      <td>2</td>\n",
       "      <td>17000</td>\n",
       "      <td>1000</td>\n",
       "      <td>1 out of 3</td>\n",
       "      <td>Super Area</td>\n",
       "      <td>Salt Lake City Sector 2</td>\n",
       "      <td>Kolkata</td>\n",
       "      <td>Semi-Furnished</td>\n",
       "      <td>Bachelors/Family</td>\n",
       "      <td>1</td>\n",
       "      <td>Contact Owner</td>\n",
       "    </tr>\n",
       "    <tr>\n",
       "      <th>3</th>\n",
       "      <td>2022-07-04</td>\n",
       "      <td>2</td>\n",
       "      <td>10000</td>\n",
       "      <td>800</td>\n",
       "      <td>1 out of 2</td>\n",
       "      <td>Super Area</td>\n",
       "      <td>Dumdum Park</td>\n",
       "      <td>Kolkata</td>\n",
       "      <td>Unfurnished</td>\n",
       "      <td>Bachelors/Family</td>\n",
       "      <td>1</td>\n",
       "      <td>Contact Owner</td>\n",
       "    </tr>\n",
       "    <tr>\n",
       "      <th>4</th>\n",
       "      <td>2022-05-09</td>\n",
       "      <td>2</td>\n",
       "      <td>7500</td>\n",
       "      <td>850</td>\n",
       "      <td>1 out of 2</td>\n",
       "      <td>Carpet Area</td>\n",
       "      <td>South Dum Dum</td>\n",
       "      <td>Kolkata</td>\n",
       "      <td>Unfurnished</td>\n",
       "      <td>Bachelors</td>\n",
       "      <td>1</td>\n",
       "      <td>Contact Owner</td>\n",
       "    </tr>\n",
       "  </tbody>\n",
       "</table>\n",
       "</div>"
      ],
      "text/plain": [
       "    Posted On  BHK   Rent  Size            Floor    Area Type  \\\n",
       "0  2022-05-18    2  10000  1100  Ground out of 2   Super Area   \n",
       "1  2022-05-13    2  20000   800       1 out of 3   Super Area   \n",
       "2  2022-05-16    2  17000  1000       1 out of 3   Super Area   \n",
       "3  2022-07-04    2  10000   800       1 out of 2   Super Area   \n",
       "4  2022-05-09    2   7500   850       1 out of 2  Carpet Area   \n",
       "\n",
       "              Area Locality     City Furnishing Status  Tenant Preferred  \\\n",
       "0                    Bandel  Kolkata       Unfurnished  Bachelors/Family   \n",
       "1  Phool Bagan, Kankurgachi  Kolkata    Semi-Furnished  Bachelors/Family   \n",
       "2   Salt Lake City Sector 2  Kolkata    Semi-Furnished  Bachelors/Family   \n",
       "3               Dumdum Park  Kolkata       Unfurnished  Bachelors/Family   \n",
       "4             South Dum Dum  Kolkata       Unfurnished         Bachelors   \n",
       "\n",
       "   Bathroom Point of Contact  \n",
       "0         2    Contact Owner  \n",
       "1         1    Contact Owner  \n",
       "2         1    Contact Owner  \n",
       "3         1    Contact Owner  \n",
       "4         1    Contact Owner  "
      ]
     },
     "execution_count": 2,
     "metadata": {},
     "output_type": "execute_result"
    }
   ],
   "source": [
    "dfHouse = pd.read_csv('House_Rent_Dataset.csv')\n",
    "dfHouse.head()"
   ]
  },
  {
   "cell_type": "markdown",
   "metadata": {},
   "source": [
    "### Mengecek info dari dataset"
   ]
  },
  {
   "cell_type": "code",
   "execution_count": 3,
   "metadata": {},
   "outputs": [
    {
     "name": "stdout",
     "output_type": "stream",
     "text": [
      "<class 'pandas.core.frame.DataFrame'>\n",
      "RangeIndex: 4746 entries, 0 to 4745\n",
      "Data columns (total 12 columns):\n",
      " #   Column             Non-Null Count  Dtype \n",
      "---  ------             --------------  ----- \n",
      " 0   Posted On          4746 non-null   object\n",
      " 1   BHK                4746 non-null   int64 \n",
      " 2   Rent               4746 non-null   int64 \n",
      " 3   Size               4746 non-null   int64 \n",
      " 4   Floor              4746 non-null   object\n",
      " 5   Area Type          4746 non-null   object\n",
      " 6   Area Locality      4746 non-null   object\n",
      " 7   City               4746 non-null   object\n",
      " 8   Furnishing Status  4746 non-null   object\n",
      " 9   Tenant Preferred   4746 non-null   object\n",
      " 10  Bathroom           4746 non-null   int64 \n",
      " 11  Point of Contact   4746 non-null   object\n",
      "dtypes: int64(4), object(8)\n",
      "memory usage: 445.1+ KB\n"
     ]
    }
   ],
   "source": [
    "dfHouse.info()"
   ]
  },
  {
   "cell_type": "markdown",
   "metadata": {},
   "source": [
    "### Mengecek nilai null dan duplikat"
   ]
  },
  {
   "cell_type": "code",
   "execution_count": 4,
   "metadata": {},
   "outputs": [
    {
     "name": "stdout",
     "output_type": "stream",
     "text": [
      "Posted On            0\n",
      "BHK                  0\n",
      "Rent                 0\n",
      "Size                 0\n",
      "Floor                0\n",
      "Area Type            0\n",
      "Area Locality        0\n",
      "City                 0\n",
      "Furnishing Status    0\n",
      "Tenant Preferred     0\n",
      "Bathroom             0\n",
      "Point of Contact     0\n",
      "dtype: int64\n",
      "0\n"
     ]
    }
   ],
   "source": [
    "print(dfHouse.isna().sum())\n",
    "print(dfHouse.duplicated().sum())"
   ]
  },
  {
   "cell_type": "markdown",
   "metadata": {},
   "source": [
    "### Scaling data, menghapus kolom yang tidak relevan, dan encoding data kategorikal"
   ]
  },
  {
   "cell_type": "code",
   "execution_count": 5,
   "metadata": {},
   "outputs": [
    {
     "data": {
      "text/html": [
       "<div>\n",
       "<style scoped>\n",
       "    .dataframe tbody tr th:only-of-type {\n",
       "        vertical-align: middle;\n",
       "    }\n",
       "\n",
       "    .dataframe tbody tr th {\n",
       "        vertical-align: top;\n",
       "    }\n",
       "\n",
       "    .dataframe thead th {\n",
       "        text-align: right;\n",
       "    }\n",
       "</style>\n",
       "<table border=\"1\" class=\"dataframe\">\n",
       "  <thead>\n",
       "    <tr style=\"text-align: right;\">\n",
       "      <th></th>\n",
       "      <th>BHK</th>\n",
       "      <th>Rent</th>\n",
       "      <th>Size</th>\n",
       "      <th>Floor</th>\n",
       "      <th>Area Type</th>\n",
       "      <th>Area Locality</th>\n",
       "      <th>City</th>\n",
       "      <th>Furnishing Status</th>\n",
       "      <th>Tenant Preferred</th>\n",
       "      <th>Bathroom</th>\n",
       "      <th>Point of Contact</th>\n",
       "    </tr>\n",
       "  </thead>\n",
       "  <tbody>\n",
       "    <tr>\n",
       "      <th>0</th>\n",
       "      <td>0.2</td>\n",
       "      <td>0.002515</td>\n",
       "      <td>0.136421</td>\n",
       "      <td>455</td>\n",
       "      <td>2</td>\n",
       "      <td>221</td>\n",
       "      <td>4</td>\n",
       "      <td>2</td>\n",
       "      <td>1</td>\n",
       "      <td>0.111111</td>\n",
       "      <td>2</td>\n",
       "    </tr>\n",
       "    <tr>\n",
       "      <th>1</th>\n",
       "      <td>0.2</td>\n",
       "      <td>0.005373</td>\n",
       "      <td>0.098874</td>\n",
       "      <td>14</td>\n",
       "      <td>2</td>\n",
       "      <td>1527</td>\n",
       "      <td>4</td>\n",
       "      <td>1</td>\n",
       "      <td>1</td>\n",
       "      <td>0.000000</td>\n",
       "      <td>2</td>\n",
       "    </tr>\n",
       "    <tr>\n",
       "      <th>2</th>\n",
       "      <td>0.2</td>\n",
       "      <td>0.004516</td>\n",
       "      <td>0.123905</td>\n",
       "      <td>14</td>\n",
       "      <td>2</td>\n",
       "      <td>1760</td>\n",
       "      <td>4</td>\n",
       "      <td>1</td>\n",
       "      <td>1</td>\n",
       "      <td>0.000000</td>\n",
       "      <td>2</td>\n",
       "    </tr>\n",
       "    <tr>\n",
       "      <th>3</th>\n",
       "      <td>0.2</td>\n",
       "      <td>0.002515</td>\n",
       "      <td>0.098874</td>\n",
       "      <td>10</td>\n",
       "      <td>2</td>\n",
       "      <td>526</td>\n",
       "      <td>4</td>\n",
       "      <td>2</td>\n",
       "      <td>1</td>\n",
       "      <td>0.000000</td>\n",
       "      <td>2</td>\n",
       "    </tr>\n",
       "    <tr>\n",
       "      <th>4</th>\n",
       "      <td>0.2</td>\n",
       "      <td>0.001801</td>\n",
       "      <td>0.105131</td>\n",
       "      <td>10</td>\n",
       "      <td>1</td>\n",
       "      <td>1890</td>\n",
       "      <td>4</td>\n",
       "      <td>2</td>\n",
       "      <td>0</td>\n",
       "      <td>0.000000</td>\n",
       "      <td>2</td>\n",
       "    </tr>\n",
       "    <tr>\n",
       "      <th>5</th>\n",
       "      <td>0.2</td>\n",
       "      <td>0.001658</td>\n",
       "      <td>0.073842</td>\n",
       "      <td>447</td>\n",
       "      <td>2</td>\n",
       "      <td>1975</td>\n",
       "      <td>4</td>\n",
       "      <td>2</td>\n",
       "      <td>1</td>\n",
       "      <td>0.111111</td>\n",
       "      <td>2</td>\n",
       "    </tr>\n",
       "    <tr>\n",
       "      <th>6</th>\n",
       "      <td>0.2</td>\n",
       "      <td>0.002515</td>\n",
       "      <td>0.086358</td>\n",
       "      <td>458</td>\n",
       "      <td>2</td>\n",
       "      <td>1184</td>\n",
       "      <td>4</td>\n",
       "      <td>2</td>\n",
       "      <td>0</td>\n",
       "      <td>0.111111</td>\n",
       "      <td>0</td>\n",
       "    </tr>\n",
       "    <tr>\n",
       "      <th>7</th>\n",
       "      <td>0.0</td>\n",
       "      <td>0.001086</td>\n",
       "      <td>0.030038</td>\n",
       "      <td>10</td>\n",
       "      <td>2</td>\n",
       "      <td>1184</td>\n",
       "      <td>4</td>\n",
       "      <td>2</td>\n",
       "      <td>0</td>\n",
       "      <td>0.000000</td>\n",
       "      <td>0</td>\n",
       "    </tr>\n",
       "    <tr>\n",
       "      <th>8</th>\n",
       "      <td>0.2</td>\n",
       "      <td>0.007088</td>\n",
       "      <td>0.098874</td>\n",
       "      <td>10</td>\n",
       "      <td>1</td>\n",
       "      <td>1476</td>\n",
       "      <td>4</td>\n",
       "      <td>2</td>\n",
       "      <td>0</td>\n",
       "      <td>0.111111</td>\n",
       "      <td>0</td>\n",
       "    </tr>\n",
       "    <tr>\n",
       "      <th>9</th>\n",
       "      <td>0.2</td>\n",
       "      <td>0.002515</td>\n",
       "      <td>0.123905</td>\n",
       "      <td>14</td>\n",
       "      <td>1</td>\n",
       "      <td>1358</td>\n",
       "      <td>4</td>\n",
       "      <td>1</td>\n",
       "      <td>1</td>\n",
       "      <td>0.111111</td>\n",
       "      <td>2</td>\n",
       "    </tr>\n",
       "  </tbody>\n",
       "</table>\n",
       "</div>"
      ],
      "text/plain": [
       "   BHK      Rent      Size  Floor  Area Type  Area Locality  City  \\\n",
       "0  0.2  0.002515  0.136421    455          2            221     4   \n",
       "1  0.2  0.005373  0.098874     14          2           1527     4   \n",
       "2  0.2  0.004516  0.123905     14          2           1760     4   \n",
       "3  0.2  0.002515  0.098874     10          2            526     4   \n",
       "4  0.2  0.001801  0.105131     10          1           1890     4   \n",
       "5  0.2  0.001658  0.073842    447          2           1975     4   \n",
       "6  0.2  0.002515  0.086358    458          2           1184     4   \n",
       "7  0.0  0.001086  0.030038     10          2           1184     4   \n",
       "8  0.2  0.007088  0.098874     10          1           1476     4   \n",
       "9  0.2  0.002515  0.123905     14          1           1358     4   \n",
       "\n",
       "   Furnishing Status  Tenant Preferred  Bathroom  Point of Contact  \n",
       "0                  2                 1  0.111111                 2  \n",
       "1                  1                 1  0.000000                 2  \n",
       "2                  1                 1  0.000000                 2  \n",
       "3                  2                 1  0.000000                 2  \n",
       "4                  2                 0  0.000000                 2  \n",
       "5                  2                 1  0.111111                 2  \n",
       "6                  2                 0  0.111111                 0  \n",
       "7                  2                 0  0.000000                 0  \n",
       "8                  2                 0  0.111111                 0  \n",
       "9                  1                 1  0.111111                 2  "
      ]
     },
     "execution_count": 5,
     "metadata": {},
     "output_type": "execute_result"
    }
   ],
   "source": [
    "# Scaling data numerik\n",
    "mm_scaler = MinMaxScaler()\n",
    "dfHouse[[\"BHK\",\"Rent\",\"Size\",\"Bathroom\"]] = mm_scaler.fit_transform(dfHouse[[\"BHK\",\"Rent\",\"Size\",\"Bathroom\"]])\n",
    "\n",
    "# Menghapus column tanggal\n",
    "dfHouse.drop(['Posted On'], axis=1, inplace=True)\n",
    "\n",
    "# Encoding column Kategorikal\n",
    "col=['Floor', 'Area Type', 'Area Locality', 'City', 'Furnishing Status', 'Point of Contact', 'Tenant Preferred']\n",
    "le=LabelEncoder()\n",
    "for i in col:\n",
    "    dfHouse[i]=le.fit_transform(dfHouse[i])\n",
    "\n",
    "dfHouse.head(10)\n"
   ]
  },
  {
   "cell_type": "markdown",
   "metadata": {},
   "source": [
    "### Menentukan target dan feature"
   ]
  },
  {
   "cell_type": "code",
   "execution_count": 6,
   "metadata": {},
   "outputs": [],
   "source": [
    "#Feature\n",
    "x = dfHouse[['BHK','Rent','Size','Floor','Area Type','Furnishing Status',]]\n",
    "\n",
    "#Target\n",
    "y = dfHouse['Tenant Preferred'] "
   ]
  },
  {
   "cell_type": "markdown",
   "metadata": {},
   "source": [
    "### Train Test Split data"
   ]
  },
  {
   "cell_type": "code",
   "execution_count": 7,
   "metadata": {},
   "outputs": [],
   "source": [
    "X_train, X_test, y_train , y_test = train_test_split(x, y, test_size = 0.3, random_state = 42)"
   ]
  },
  {
   "cell_type": "markdown",
   "metadata": {},
   "source": [
    "### Membuat model dengan metode Sequential & melakukan Model Compile"
   ]
  },
  {
   "cell_type": "code",
   "execution_count": 8,
   "metadata": {},
   "outputs": [],
   "source": [
    "model = Sequential([\n",
    "    layers.Dense(16, activation='relu', input_shape=[6]), #Input Layer\n",
    "    layers.Dense(32, activation='relu'),\n",
    "    layers.Dense(1, activation='sigmoid') # Output Layer\n",
    "])\n",
    "\n",
    "model.compile(optimizer='Adam', \n",
    "              loss='binary_crossentropy',\n",
    "              metrics=['accuracy'])"
   ]
  },
  {
   "cell_type": "markdown",
   "metadata": {},
   "source": [
    "### Melatih model"
   ]
  },
  {
   "cell_type": "code",
   "execution_count": 9,
   "metadata": {},
   "outputs": [
    {
     "name": "stdout",
     "output_type": "stream",
     "text": [
      "Epoch 1/20\n",
      "84/84 [==============================] - 1s 4ms/step - loss: 22.1390 - accuracy: 0.4321 - val_loss: 0.8616 - val_accuracy: 0.7429\n",
      "Epoch 2/20\n",
      "84/84 [==============================] - 0s 2ms/step - loss: 0.4051 - accuracy: 0.7207 - val_loss: 0.3006 - val_accuracy: 0.7429\n",
      "Epoch 3/20\n",
      "84/84 [==============================] - 0s 2ms/step - loss: 0.2975 - accuracy: 0.7207 - val_loss: 0.2928 - val_accuracy: 0.7429\n",
      "Epoch 4/20\n",
      "84/84 [==============================] - 0s 2ms/step - loss: 0.2898 - accuracy: 0.7207 - val_loss: 0.2781 - val_accuracy: 0.7429\n",
      "Epoch 5/20\n",
      "84/84 [==============================] - 0s 2ms/step - loss: 0.3112 - accuracy: 0.7207 - val_loss: 0.2671 - val_accuracy: 0.7429\n",
      "Epoch 6/20\n",
      "84/84 [==============================] - 0s 2ms/step - loss: 0.2740 - accuracy: 0.7207 - val_loss: 0.2685 - val_accuracy: 0.7429\n",
      "Epoch 7/20\n",
      "84/84 [==============================] - 0s 2ms/step - loss: 0.2623 - accuracy: 0.7207 - val_loss: 0.2687 - val_accuracy: 0.7429\n",
      "Epoch 8/20\n",
      "84/84 [==============================] - 0s 2ms/step - loss: 0.2667 - accuracy: 0.7207 - val_loss: 0.2678 - val_accuracy: 0.7429\n",
      "Epoch 9/20\n",
      "84/84 [==============================] - 0s 2ms/step - loss: 0.3066 - accuracy: 0.7207 - val_loss: 0.2857 - val_accuracy: 0.7429\n",
      "Epoch 10/20\n",
      "84/84 [==============================] - 0s 2ms/step - loss: 0.2651 - accuracy: 0.7207 - val_loss: 0.3279 - val_accuracy: 0.7429\n",
      "Epoch 11/20\n",
      "84/84 [==============================] - 0s 2ms/step - loss: 0.2931 - accuracy: 0.7140 - val_loss: 0.2794 - val_accuracy: 0.7429\n",
      "Epoch 12/20\n",
      "84/84 [==============================] - 0s 2ms/step - loss: 0.3351 - accuracy: 0.7207 - val_loss: 0.2483 - val_accuracy: 0.7429\n",
      "Epoch 13/20\n",
      "84/84 [==============================] - 0s 2ms/step - loss: 0.2435 - accuracy: 0.7207 - val_loss: 0.2599 - val_accuracy: 0.7429\n",
      "Epoch 14/20\n",
      "84/84 [==============================] - 0s 2ms/step - loss: 0.2633 - accuracy: 0.7200 - val_loss: 0.2452 - val_accuracy: 0.7429\n",
      "Epoch 15/20\n",
      "84/84 [==============================] - 0s 2ms/step - loss: 0.2669 - accuracy: 0.7207 - val_loss: 0.3366 - val_accuracy: 0.7429\n",
      "Epoch 16/20\n",
      "84/84 [==============================] - 0s 2ms/step - loss: 0.2835 - accuracy: 0.7128 - val_loss: 0.4380 - val_accuracy: 0.7429\n",
      "Epoch 17/20\n",
      "84/84 [==============================] - 0s 2ms/step - loss: 0.2710 - accuracy: 0.7128 - val_loss: 0.2377 - val_accuracy: 0.7429\n",
      "Epoch 18/20\n",
      "84/84 [==============================] - 0s 2ms/step - loss: 0.2417 - accuracy: 0.7207 - val_loss: 0.2422 - val_accuracy: 0.7429\n",
      "Epoch 19/20\n",
      "84/84 [==============================] - 0s 2ms/step - loss: 0.2577 - accuracy: 0.7207 - val_loss: 0.2388 - val_accuracy: 0.7429\n",
      "Epoch 20/20\n",
      "84/84 [==============================] - 0s 2ms/step - loss: 0.2789 - accuracy: 0.7207 - val_loss: 0.2478 - val_accuracy: 0.7429\n"
     ]
    },
    {
     "data": {
      "text/plain": [
       "<keras.src.callbacks.History at 0x1c5697a23e0>"
      ]
     },
     "execution_count": 9,
     "metadata": {},
     "output_type": "execute_result"
    }
   ],
   "source": [
    "\n",
    "model.fit(X_train, y_train, epochs = 20,validation_split=0.2)"
   ]
  },
  {
   "cell_type": "markdown",
   "metadata": {},
   "source": [
    "### Evaluasi model"
   ]
  },
  {
   "cell_type": "code",
   "execution_count": 10,
   "metadata": {},
   "outputs": [
    {
     "name": "stdout",
     "output_type": "stream",
     "text": [
      "45/45 [==============================] - 0s 2ms/step - loss: 0.2553 - accuracy: 0.7268\n"
     ]
    },
    {
     "data": {
      "text/plain": [
       "[0.2553046941757202, 0.7268258333206177]"
      ]
     },
     "execution_count": 10,
     "metadata": {},
     "output_type": "execute_result"
    }
   ],
   "source": [
    "model.evaluate(X_test,y_test)"
   ]
  },
  {
   "cell_type": "code",
   "execution_count": 11,
   "metadata": {},
   "outputs": [
    {
     "name": "stdout",
     "output_type": "stream",
     "text": [
      "45/45 [==============================] - 0s 864us/step\n"
     ]
    }
   ],
   "source": [
    "y_pred = model.predict(X_test)\n",
    "y_pred = np.where(y_pred > 0.5, 1, 0).reshape(-1)"
   ]
  },
  {
   "cell_type": "code",
   "execution_count": 12,
   "metadata": {},
   "outputs": [
    {
     "data": {
      "text/plain": [
       "0.7268258426966292"
      ]
     },
     "execution_count": 12,
     "metadata": {},
     "output_type": "execute_result"
    }
   ],
   "source": [
    "accuracy_score(y_test, y_pred)"
   ]
  },
  {
   "cell_type": "markdown",
   "metadata": {},
   "source": [
    "## **Grafik**"
   ]
  },
  {
   "cell_type": "markdown",
   "metadata": {},
   "source": [
    "### Accuracy model"
   ]
  },
  {
   "cell_type": "code",
   "execution_count": 13,
   "metadata": {},
   "outputs": [
    {
     "name": "stdout",
     "output_type": "stream",
     "text": [
      "Epoch 1/20\n",
      "748/748 [==============================] - 1s 1ms/step - loss: 0.4834 - accuracy: 0.7156 - val_loss: 0.2288 - val_accuracy: 0.7357\n",
      "Epoch 2/20\n",
      "748/748 [==============================] - 1s 2ms/step - loss: 0.3479 - accuracy: 0.7216 - val_loss: 0.2144 - val_accuracy: 0.7357\n",
      "Epoch 3/20\n",
      "748/748 [==============================] - 1s 1ms/step - loss: 0.3287 - accuracy: 0.7213 - val_loss: 0.3581 - val_accuracy: 0.7357\n",
      "Epoch 4/20\n",
      "748/748 [==============================] - 1s 2ms/step - loss: 0.3060 - accuracy: 0.7210 - val_loss: 0.2434 - val_accuracy: 0.7357\n",
      "Epoch 5/20\n",
      "748/748 [==============================] - 1s 1ms/step - loss: 0.3343 - accuracy: 0.7190 - val_loss: 0.3714 - val_accuracy: 0.7357\n",
      "Epoch 6/20\n",
      "748/748 [==============================] - 1s 2ms/step - loss: 0.3147 - accuracy: 0.7196 - val_loss: 0.2853 - val_accuracy: 0.7267\n",
      "Epoch 7/20\n",
      "748/748 [==============================] - 1s 2ms/step - loss: 0.3084 - accuracy: 0.7183 - val_loss: 0.4419 - val_accuracy: 0.7357\n",
      "Epoch 8/20\n",
      "748/748 [==============================] - 2s 2ms/step - loss: 0.2959 - accuracy: 0.7240 - val_loss: 0.2947 - val_accuracy: 0.7357\n",
      "Epoch 9/20\n",
      "748/748 [==============================] - 1s 2ms/step - loss: 0.2796 - accuracy: 0.7203 - val_loss: 0.3683 - val_accuracy: 0.7357\n",
      "Epoch 10/20\n",
      "748/748 [==============================] - 1s 2ms/step - loss: 0.2651 - accuracy: 0.7240 - val_loss: 0.2403 - val_accuracy: 0.7357\n",
      "Epoch 11/20\n",
      "748/748 [==============================] - 1s 1ms/step - loss: 0.2876 - accuracy: 0.7196 - val_loss: 0.3211 - val_accuracy: 0.7357\n",
      "Epoch 12/20\n",
      "748/748 [==============================] - 1s 1ms/step - loss: 0.2804 - accuracy: 0.7220 - val_loss: 0.1987 - val_accuracy: 0.7357\n",
      "Epoch 13/20\n",
      "748/748 [==============================] - 1s 2ms/step - loss: 0.2776 - accuracy: 0.7203 - val_loss: 0.1916 - val_accuracy: 0.7357\n",
      "Epoch 14/20\n",
      "748/748 [==============================] - 1s 1ms/step - loss: 0.2701 - accuracy: 0.7247 - val_loss: 0.2146 - val_accuracy: 0.7357\n",
      "Epoch 15/20\n",
      "748/748 [==============================] - 1s 1ms/step - loss: 0.2776 - accuracy: 0.7233 - val_loss: 0.1937 - val_accuracy: 0.7357\n",
      "Epoch 16/20\n",
      "748/748 [==============================] - 1s 2ms/step - loss: 0.2808 - accuracy: 0.7186 - val_loss: 0.1956 - val_accuracy: 0.7357\n",
      "Epoch 17/20\n",
      "748/748 [==============================] - 1s 1ms/step - loss: 0.2514 - accuracy: 0.7206 - val_loss: 0.1954 - val_accuracy: 0.7357\n",
      "Epoch 18/20\n",
      "748/748 [==============================] - 1s 1ms/step - loss: 0.2470 - accuracy: 0.7233 - val_loss: 0.2110 - val_accuracy: 0.7357\n",
      "Epoch 19/20\n",
      "748/748 [==============================] - 1s 1ms/step - loss: 0.2612 - accuracy: 0.7223 - val_loss: 0.2649 - val_accuracy: 0.7357\n",
      "Epoch 20/20\n",
      "748/748 [==============================] - 1s 1ms/step - loss: 0.2406 - accuracy: 0.7240 - val_loss: 0.1905 - val_accuracy: 0.7357\n"
     ]
    },
    {
     "data": {
      "image/png": "[encoded data removed]",
      "text/plain": [
       "<Figure size 1000x600 with 1 Axes>"
      ]
     },
     "metadata": {},
     "output_type": "display_data"
    }
   ],
   "source": [
    "plt.figure(figsize=(10, 6))\n",
    "history = model.fit(X_train, y_train, validation_split= 0.1, epochs=20, batch_size=4)\n",
    "plt.plot(history.history[\"accuracy\"], label='Train Accuracy')\n",
    "plt.plot(history.history[\"val_accuracy\"], label='Validation Accuracy') \n",
    "plt.title('Accuracy model')\n",
    "plt.ylabel('Accuracy')\n",
    "plt.xlabel('Epoch')\n",
    "plt.legend(['Train', 'Validation'], loc='upper left')\n",
    "plt.show()"
   ]
  },
  {
   "cell_type": "markdown",
   "metadata": {},
   "source": [
    "### Loss Model"
   ]
  },
  {
   "cell_type": "code",
   "execution_count": 14,
   "metadata": {},
   "outputs": [
    {
     "data": {
      "image/png": "[encoded data removed]",
      "text/plain": [
       "<Figure size 640x480 with 1 Axes>"
      ]
     },
     "metadata": {},
     "output_type": "display_data"
    }
   ],
   "source": [
    "plt.plot(history.history['loss'])\n",
    "plt.plot(history.history['val_loss'])\n",
    "plt.title('model loss')\n",
    "plt.ylabel('loss')\n",
    "plt.xlabel('epoch')\n",
    "plt.legend(['train', 'val'], loc='upper left')\n",
    "plt.show()"
   ]
  }
 ],
 "metadata": {
  "kernelspec": {
   "display_name": "Python 3",
   "language": "python",
   "name": "python3"
  },
  "language_info": {
   "codemirror_mode": {
    "name": "ipython",
    "version": 3
   },
   "file_extension": ".py",
   "mimetype": "text/x-python",
   "name": "python",
   "nbconvert_exporter": "python",
   "pygments_lexer": "ipython3",
   "version": "3.10.7"
  },
  "orig_nbformat": 4
 },
 "nbformat": 4,
 "nbformat_minor": 2
}
