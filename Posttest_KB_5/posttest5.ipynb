{
 "cells": [
  {
   "cell_type": "markdown",
   "metadata": {},
   "source": [
    "### Import library"
   ]
  },
  {
   "cell_type": "code",
   "execution_count": null,
   "metadata": {},
   "outputs": [],
   "source": [
    "import pandas as pd\n",
    "import matplotlib.pyplot as plt\n",
    "import seaborn as sns\n",
    "import numpy as np\n",
    "from scipy import stats\n",
    "from sklearn.preprocessing import MinMaxScaler\n",
    "from sklearn.preprocessing import LabelEncoder\n",
    "from sklearn.model_selection import train_test_split\n",
    "from sklearn.svm import SVC\n",
    "from sklearn.inspection import DecisionBoundaryDisplay\n",
    "from sklearn.metrics import confusion_matrix, classification_report\n",
    "from sklearn.cluster import KMeans\n",
    "\n",
    "from sklearn.metrics import silhouette_score, davies_bouldin_score, calinski_harabasz_score # SDB-CH\n",
    "\n",
    "from sklearn.metrics import adjusted_rand_score # ARI\n",
    "from sklearn.metrics import normalized_mutual_info_score # NMI\n",
    "from sklearn.metrics import homogeneity_score, completeness_score, v_measure_score #\n"
   ]
  },
  {
   "cell_type": "markdown",
   "metadata": {},
   "source": [
    "### Import dataset"
   ]
  },
  {
   "cell_type": "code",
   "execution_count": null,
   "metadata": {},
   "outputs": [],
   "source": [
    "dfHouse = pd.read_csv('House_Rent_Dataset.csv')"
   ]
  },
  {
   "cell_type": "code",
   "execution_count": null,
   "metadata": {},
   "outputs": [],
   "source": [
    "dfHouse.head()"
   ]
  },
  {
   "cell_type": "markdown",
   "metadata": {},
   "source": [
    "### Melihat bentukan dataset"
   ]
  },
  {
   "cell_type": "code",
   "execution_count": null,
   "metadata": {},
   "outputs": [],
   "source": [
    "dfHouse.info()"
   ]
  },
  {
   "cell_type": "markdown",
   "metadata": {},
   "source": [
    "### Mengecek niali Null dan Duplikat pada dataset"
   ]
  },
  {
   "cell_type": "code",
   "execution_count": null,
   "metadata": {},
   "outputs": [],
   "source": [
    "print(dfHouse.isna().sum())\n",
    "print(\"Duplicated data : \",dfHouse.duplicated().sum())"
   ]
  },
  {
   "cell_type": "markdown",
   "metadata": {},
   "source": [
    "### Menghapus outlier"
   ]
  },
  {
   "cell_type": "code",
   "execution_count": null,
   "metadata": {},
   "outputs": [],
   "source": [
    "dfHouse = dfHouse[(np.abs(stats.zscore(dfHouse.select_dtypes(['int64' , 'float64'])))<3).all(axis=1)]"
   ]
  },
  {
   "cell_type": "markdown",
   "metadata": {},
   "source": [
    "### Preprocessing"
   ]
  },
  {
   "cell_type": "code",
   "execution_count": null,
   "metadata": {},
   "outputs": [],
   "source": [
    "# Scaling data numerik\n",
    "mm_scaler = MinMaxScaler()\n",
    "dfHouse[[\"BHK\",\"Rent\",\"Size\",\"Bathroom\"]] = mm_scaler.fit_transform(dfHouse[[\"BHK\",\"Rent\",\"Size\",\"Bathroom\"]])\n",
    "\n",
    "# Menghapus column tanggal\n",
    "dfHouse.drop(['Posted On'], axis=1, inplace=True)\n",
    "\n",
    "# Encoding column Kategorikal\n",
    "col=['Floor', 'Area Type', 'Area Locality', 'City', 'Furnishing Status', 'Point of Contact', 'Tenant Preferred']\n",
    "le=LabelEncoder()\n",
    "for i in col:\n",
    "    dfHouse[i]=le.fit_transform(dfHouse[i])\n",
    "\n",
    "dfHouse.head(10)\n"
   ]
  },
  {
   "cell_type": "markdown",
   "metadata": {},
   "source": [
    "## A. Supervised Learning"
   ]
  },
  {
   "cell_type": "markdown",
   "metadata": {},
   "source": [
    "### A1. Support Vector classifier"
   ]
  },
  {
   "cell_type": "code",
   "execution_count": null,
   "metadata": {},
   "outputs": [],
   "source": [
    "x = dfHouse[[\"Rent\",\"Size\"]] #feature\n",
    "y = dfHouse[\"Tenant Preferred\"] #target\n",
    "\n",
    "# data split menjadi data train dan data test\n",
    "x_train, x_test, y_train, y_test = train_test_split(x, y, test_size=0.3)\n",
    "\n",
    "# membuat model SVC dengan data train\n",
    "svm = SVC(kernel='linear', class_weight='balanced')\n",
    "svm.fit(x_train, y_train)\n",
    "\n",
    "# prediksi data test\n",
    "y_pred = svm.predict(x_test)\n",
    "\n",
    "# menyimpan nilai support vector dan indexnya\n",
    "support_vectors = svm.support_vectors_\n",
    "support_vector_indices = np.where(np.isin(x_train, support_vectors).all(axis=1))"
   ]
  },
  {
   "cell_type": "markdown",
   "metadata": {},
   "source": [
    "### A2. Evaluasi hasil"
   ]
  },
  {
   "cell_type": "markdown",
   "metadata": {},
   "source": [
    "### Confusion matrix SVM"
   ]
  },
  {
   "cell_type": "code",
   "execution_count": null,
   "metadata": {},
   "outputs": [],
   "source": [
    "svm_cm = confusion_matrix(y_test, y_pred)\n",
    "\n",
    "plt.figure(figsize=(10,8))\n",
    "sns.heatmap(svm_cm, annot=True, fmt='.2f', cmap='Blues')\n",
    "plt.xlabel('Predicted')\n",
    "plt.ylabel('Truth')\n",
    "plt.title('Confusion Matrix SVM')\n",
    "plt.show()"
   ]
  },
  {
   "cell_type": "markdown",
   "metadata": {},
   "source": [
    "### Report Classification SVM"
   ]
  },
  {
   "cell_type": "code",
   "execution_count": null,
   "metadata": {},
   "outputs": [],
   "source": [
    "print(classification_report(y_test, y_pred))\n"
   ]
  },
  {
   "cell_type": "markdown",
   "metadata": {},
   "source": [
    "### A3. Plotting hasil prediksi SVM"
   ]
  },
  {
   "cell_type": "code",
   "execution_count": null,
   "metadata": {},
   "outputs": [],
   "source": [
    "\n",
    "X = dfHouse[[\"Rent\",\"Size\"]]\n",
    "y = dfHouse[\"Tenant Preferred\"]\n",
    "\n",
    "svm = SVC()\n",
    "svm.fit(X, y)\n",
    "\n",
    "plt.figure(figsize=(20, 12))\n",
    "sns.scatterplot(x=dfHouse[\"Rent\"], y=dfHouse[\"Size\"], hue=dfHouse[\"Tenant Preferred\"], data=dfHouse)\n",
    "\n",
    "ax = plt.gca()\n",
    "\n",
    "DecisionBoundaryDisplay.from_estimator(\n",
    "    estimator=svm,\n",
    "    X=X.values,  \n",
    "    plot_method=\"contourf\",\n",
    "    levels=[-1, 0, 1],\n",
    "    alpha=0.5,\n",
    "    linestyles=[\"--\", \"-\", \"--\"],\n",
    "    ax=ax,\n",
    ")\n",
    "\n",
    "# Plot support vectors\n",
    "ax.scatter(\n",
    "    svm.support_vectors_[:, 0],\n",
    "    svm.support_vectors_[:, 1],\n",
    "    s=100,\n",
    "    linewidth=0.1,\n",
    "    facecolors=\"none\",\n",
    "    edgecolors=\"k\",\n",
    ")\n",
    "plt.xlabel(\"Rent\")\n",
    "plt.ylabel(\"Size\")\n",
    "plt.title(\"SVM dengan Support Vectors\")\n",
    "plt.show()"
   ]
  },
  {
   "cell_type": "markdown",
   "metadata": {},
   "source": [
    "### B. Unsupervised Learning"
   ]
  },
  {
   "cell_type": "markdown",
   "metadata": {},
   "source": [
    "### B1. K-Means Clustering"
   ]
  },
  {
   "cell_type": "code",
   "execution_count": null,
   "metadata": {},
   "outputs": [],
   "source": [
    "plt.figure(figsize=(15,10))\n",
    "\n",
    "X = dfHouse[[\"Rent\" , \"Size\" ]]\n",
    "K =  2 # dari target\n",
    "\n",
    "kmeans = KMeans(n_clusters=K, n_init=10) \n",
    "kmeans.fit(X) \n",
    "cluster_labels = kmeans.labels_ \n",
    "dfHouse[\"Tenant Preferred\"] = cluster_labels \n",
    "centroids = kmeans.cluster_centers_ \n",
    "c = [\"blue\", \"green\"]\n",
    "plt.scatter(centroids[:, 0], centroids[:, 1], alpha=0.5, c='red', s=200,label='Centroids')\n",
    "\n",
    "sns.scatterplot(data=dfHouse, x=dfHouse['Rent'], y=dfHouse['Size'], hue=\"Tenant Preferred\", palette=c)\n",
    "\n",
    "plt.title(f\"K-Means Clustering (K={K}) dengan Centroids\")\n",
    "plt.legend()\n",
    "plt.show()"
   ]
  },
  {
   "cell_type": "markdown",
   "metadata": {},
   "source": [
    "### B2. Evaluasi Hasil"
   ]
  },
  {
   "cell_type": "markdown",
   "metadata": {},
   "source": [
    "### Tanpa label asli"
   ]
  },
  {
   "cell_type": "code",
   "execution_count": null,
   "metadata": {},
   "outputs": [],
   "source": [
    "# Silhouette Score\n",
    "ss_score = silhouette_score(X, dfHouse['Tenant Preferred'])\n",
    "print(f\"Silhouette Score: {ss_score:.2f}\")\n",
    "\n",
    "# Davies-Bouldin Index\n",
    "db_index = davies_bouldin_score(X, dfHouse['Tenant Preferred'])\n",
    "print(f\"Davies-Bouldin Index: {db_index:.2f}\")\n",
    "\n",
    "# Calinski-Harabasz Index\n",
    "ch_index = calinski_harabasz_score(X, dfHouse['Tenant Preferred'])\n",
    "print(f\"Calinski-Harabasz Index: {ch_index:.2f}\")"
   ]
  },
  {
   "cell_type": "markdown",
   "metadata": {},
   "source": [
    "### Dengan label asli"
   ]
  },
  {
   "cell_type": "code",
   "execution_count": null,
   "metadata": {},
   "outputs": [],
   "source": [
    "# Buat crosstab untuk membandingkan cluster labels dengan true labels\n",
    "cross_tab = pd.crosstab(dfHouse[\"Tenant Preferred\"], dfHouse[\"City\"])\n",
    "print(\"Cross-Tabulation:\")\n",
    "print(cross_tab, \"\\n\")\n",
    "\n",
    "# Adjusted Rand Index (ARI)\n",
    "ari = adjusted_rand_score(dfHouse[\"City\"], dfHouse['Tenant Preferred'])\n",
    "print(f\"Adjusted Rand Index (ARI): {ari:.2f}\")\n",
    "\n",
    "# Normalized Mutual Information (NMI)\n",
    "nmi = normalized_mutual_info_score(dfHouse['City'], dfHouse['Tenant Preferred'])\n",
    "print(f\"Normalized Mutual Information (NMI): {nmi:.2f}\")\n",
    "\n",
    "# Fungsi HCV-M\n",
    "homogeneity = homogeneity_score(dfHouse[\"City\"], dfHouse['Tenant Preferred'])\n",
    "completeness = completeness_score(dfHouse[\"City\"], dfHouse['Tenant Preferred'])\n",
    "v_measure = v_measure_score(dfHouse[\"City\"], dfHouse['Tenant Preferred'])\n",
    "print(f\"Homogeneity Score: {homogeneity:.2f}\")\n",
    "print(f\"Completeness Score: {completeness:.2f}\")\n",
    "print(f\"V-Measure Score: {v_measure:.2f}\")\n"
   ]
  },
  {
   "cell_type": "markdown",
   "metadata": {},
   "source": [
    "### B3. Plotting "
   ]
  },
  {
   "cell_type": "code",
   "execution_count": null,
   "metadata": {},
   "outputs": [],
   "source": [
    "\n",
    "plt.figure(figsize=(15, 10))\n",
    "\n",
    "# True Labels\n",
    "sns.scatterplot(data=dfHouse, x=\"Rent\", y=\"Size\", hue=\"City\", palette='Set2', marker=\"D\", s=130)\n",
    "# Clusters\n",
    "sns.scatterplot(data=dfHouse, x=\"Rent\", y=\"Size\", hue=\"Tenant Preferred\", palette='Set2', marker=\"o\", s=40)\n",
    "# Centroids\n",
    "plt.scatter(centroids[:, 0], centroids[:, 1], alpha=0.5, c='red', s=100,)\n",
    "\n",
    "plt.title(f\"K-Means Clustering (K={K}) dengan Centroids\")\n",
    "plt.xlabel(\"Lead Time\")\n",
    "plt.ylabel(\"Average Price per Room\")\n",
    "\n",
    "# Explicitly define legends\n",
    "true_labels_legend = plt.legend(loc=\"upper right\")\n",
    "\n",
    "# Add legend for clusters and centroids\n",
    "plt.legend(title=\"Clusters\", loc=\"lower right\")\n",
    "\n",
    "plt.show()\n"
   ]
  },
  {
   "cell_type": "code",
   "execution_count": null,
   "metadata": {},
   "outputs": [],
   "source": []
  }
 ],
 "metadata": {
  "kernelspec": {
   "display_name": "Python 3",
   "language": "python",
   "name": "python3"
  },
  "language_info": {
   "codemirror_mode": {
    "name": "ipython",
    "version": 3
   },
   "file_extension": ".py",
   "mimetype": "text/x-python",
   "name": "python",
   "nbconvert_exporter": "python",
   "pygments_lexer": "ipython3",
   "version": "3.10.11"
  }
 },
 "nbformat": 4,
 "nbformat_minor": 2
}
