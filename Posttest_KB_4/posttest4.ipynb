{
 "cells": [
  {
   "cell_type": "markdown",
   "metadata": {},
   "source": [
    "### Import library"
   ]
  },
  {
   "cell_type": "code",
   "execution_count": 164,
   "metadata": {},
   "outputs": [],
   "source": [
    "import pandas as pd\n",
    "import numpy as np\n",
    "from sklearn.model_selection import train_test_split\n",
    "from sklearn.preprocessing import MinMaxScaler\n",
    "from sklearn.preprocessing import StandardScaler\n",
    "from sklearn.impute import SimpleImputer\n",
    "from sklearn.preprocessing import OneHotEncoder"
   ]
  },
  {
   "cell_type": "markdown",
   "metadata": {},
   "source": [
    "### Import dataset "
   ]
  },
  {
   "cell_type": "code",
   "execution_count": 165,
   "metadata": {},
   "outputs": [
    {
     "name": "stdout",
     "output_type": "stream",
     "text": [
      "<class 'pandas.core.frame.DataFrame'>\n",
      "RangeIndex: 4746 entries, 0 to 4745\n",
      "Data columns (total 12 columns):\n",
      " #   Column             Non-Null Count  Dtype \n",
      "---  ------             --------------  ----- \n",
      " 0   Posted On          4746 non-null   object\n",
      " 1   BHK                4746 non-null   int64 \n",
      " 2   Rent               4746 non-null   int64 \n",
      " 3   Size               4746 non-null   int64 \n",
      " 4   Floor              4746 non-null   object\n",
      " 5   Area Type          4746 non-null   object\n",
      " 6   Area Locality      4746 non-null   object\n",
      " 7   City               4746 non-null   object\n",
      " 8   Furnishing Status  4746 non-null   object\n",
      " 9   Tenant Preferred   4746 non-null   object\n",
      " 10  Bathroom           4746 non-null   int64 \n",
      " 11  Point of Contact   4746 non-null   object\n",
      "dtypes: int64(4), object(8)\n",
      "memory usage: 445.1+ KB\n"
     ]
    }
   ],
   "source": [
    "dfHouse = pd.read_csv('House_Rent_Dataset.csv')\n",
    "dfHouse.info()"
   ]
  },
  {
   "cell_type": "markdown",
   "metadata": {},
   "source": [
    "### Menentukan target dan feature, serta melakukan pembagian data menjadi data training dan testing"
   ]
  },
  {
   "cell_type": "code",
   "execution_count": 166,
   "metadata": {},
   "outputs": [],
   "source": [
    "x = dfHouse.drop(\"Tenant Preferred\", axis=1) #menentukan feature dengan meng-drop column target\n",
    "y = dfHouse[\"Tenant Preferred\"] #menentukan target dengan memilih column target\n",
    "x_train, x_test, y_train, y_test = train_test_split(x,y, test_size=0.3)\n"
   ]
  },
  {
   "cell_type": "code",
   "execution_count": 167,
   "metadata": {},
   "outputs": [
    {
     "name": "stdout",
     "output_type": "stream",
     "text": [
      "\n",
      "x_train : (3322, 11)\n",
      "x_test  : (1424, 11)\n",
      "y_train : (3322,)\n",
      "y_test  : (1424,)\n",
      "\n",
      "\n"
     ]
    }
   ],
   "source": [
    "print(\n",
    "\n",
    "f\"\"\"\n",
    "x_train : {x_train.shape}\n",
    "x_test  : {x_test.shape}\n",
    "y_train : {y_train.shape}\n",
    "y_test  : {y_test.shape}\n",
    "\n",
    "\"\"\"\n",
    ")"
   ]
  },
  {
   "cell_type": "markdown",
   "metadata": {},
   "source": [
    "### Normalisasi data menggunakan MinMaxScaler()"
   ]
  },
  {
   "cell_type": "code",
   "execution_count": 168,
   "metadata": {},
   "outputs": [
    {
     "name": "stdout",
     "output_type": "stream",
     "text": [
      "Data sebelum normalisasi\n",
      "count    4.746000e+03\n",
      "mean     3.499345e+04\n",
      "std      7.810641e+04\n",
      "min      1.200000e+03\n",
      "25%      1.000000e+04\n",
      "50%      1.600000e+04\n",
      "75%      3.300000e+04\n",
      "max      3.500000e+06\n",
      "Name: Rent, dtype: float64\n",
      "\n",
      "Data sesudah normalisasi\n",
      "count    4746.000000\n",
      "mean        0.009659\n",
      "std         0.022324\n",
      "min         0.000000\n",
      "25%         0.002515\n",
      "50%         0.004230\n",
      "75%         0.009089\n",
      "max         1.000000\n",
      "Name: Rent, dtype: float64\n"
     ]
    }
   ],
   "source": [
    "dfHouse_minmaxed = dfHouse.copy()\n",
    "\n",
    "minmaxed_data = MinMaxScaler().fit_transform(dfHouse_minmaxed[[\"Rent\"]])\n",
    "dfHouse_minmaxed[\"Rent\"] = minmaxed_data\n",
    "\n",
    "print(\"Data sebelum normalisasi\")\n",
    "print(dfHouse[\"Rent\"].describe())\n",
    "print(\"\")\n",
    "print(\"Data sesudah normalisasi\")\n",
    "print(dfHouse_minmaxed[\"Rent\"].describe())"
   ]
  },
  {
   "cell_type": "markdown",
   "metadata": {},
   "source": [
    "### Standarisasi data menggunakan StandardScaler()"
   ]
  },
  {
   "cell_type": "code",
   "execution_count": 169,
   "metadata": {},
   "outputs": [
    {
     "name": "stdout",
     "output_type": "stream",
     "text": [
      "Data sebelum standarisasi\n",
      "count    4746.000000\n",
      "mean      967.490729\n",
      "std       634.202328\n",
      "min        10.000000\n",
      "25%       550.000000\n",
      "50%       850.000000\n",
      "75%      1200.000000\n",
      "max      8000.000000\n",
      "Name: Size, dtype: float64\n",
      "\n",
      "Data sesudah standarisasi\n",
      "count    4.746000e+03\n",
      "mean     8.982841e-17\n",
      "std      1.000105e+00\n",
      "min     -1.509915e+00\n",
      "25%     -6.583620e-01\n",
      "50%     -1.852770e-01\n",
      "75%      3.666555e-01\n",
      "max      1.108992e+01\n",
      "Name: Size, dtype: float64\n"
     ]
    }
   ],
   "source": [
    "dfHouse_standard = dfHouse.copy()\n",
    "\n",
    "scaled_data = StandardScaler().fit_transform(dfHouse_standard[[\"Size\"]])\n",
    "dfHouse_standard[\"Size\"] = scaled_data\n",
    "\n",
    "print(\"Data sebelum standarisasi\")\n",
    "print(dfHouse[\"Size\"].describe())\n",
    "print(\"\")\n",
    "print(\"Data sesudah standarisasi\")\n",
    "print(dfHouse_standard[\"Size\"].describe())"
   ]
  },
  {
   "cell_type": "markdown",
   "metadata": {},
   "source": [
    "### Membuat nilai null didalam dataset"
   ]
  },
  {
   "cell_type": "code",
   "execution_count": 170,
   "metadata": {},
   "outputs": [
    {
     "data": {
      "text/plain": [
       "Posted On               0\n",
       "BHK                     0\n",
       "Rent                 2146\n",
       "Size                 2146\n",
       "Floor                   0\n",
       "Area Type               0\n",
       "Area Locality           0\n",
       "City                    0\n",
       "Furnishing Status    2146\n",
       "Tenant Preferred        0\n",
       "Bathroom                0\n",
       "Point of Contact        0\n",
       "dtype: int64"
      ]
     },
     "execution_count": 170,
     "metadata": {},
     "output_type": "execute_result"
    }
   ],
   "source": [
    "dfHouse_nan = dfHouse.copy()\n",
    "\n",
    "#mengubah tipe data column \"Size\" dari int menjadi float\n",
    "dfHouse_nan[\"Size\"] = dfHouse_nan[\"Size\"].astype(float)\n",
    "\n",
    "#mengubah nilai \"Rent\" mulai dari record ke 2600 yang bertipe int menjadi kosong\n",
    "dfHouse_nan.loc[2600:, \"Rent\"] = np.nan \n",
    "\n",
    "#mengubah nilai \"Size\" mulai dari record ke 2600 yang bertipe float menjadi kosong\n",
    "dfHouse_nan.loc[2600:, \"Size\"] = np.nan \n",
    "\n",
    "#mengubah nilai \"Furnishing Status\" mulai dari record ke 2600 yang bertipe obj menjadi kosong\n",
    "dfHouse_nan.loc[2600:, \"Furnishing Status\"] = np.nan \n",
    "\n",
    "#Mengecek nilai null dalam dataset\n",
    "dfHouse_nan.isna().sum()"
   ]
  },
  {
   "cell_type": "markdown",
   "metadata": {},
   "source": [
    "### Mengatasi nilai null dalam dataset menggunakan .median(), .mean(), dan .mode()"
   ]
  },
  {
   "cell_type": "code",
   "execution_count": 171,
   "metadata": {},
   "outputs": [
    {
     "data": {
      "text/plain": [
       "Posted On               0\n",
       "BHK                     0\n",
       "Rent                    0\n",
       "Size                    0\n",
       "Floor                   0\n",
       "Area Type               0\n",
       "Area Locality           0\n",
       "City                    0\n",
       "Furnishing Status    2146\n",
       "Tenant Preferred        0\n",
       "Bathroom                0\n",
       "Point of Contact        0\n",
       "dtype: int64"
      ]
     },
     "execution_count": 171,
     "metadata": {},
     "output_type": "execute_result"
    }
   ],
   "source": [
    "# Mengatasi nilai nan dengan cara mengisi nilai nan dengan median dari data\n",
    "dfHouse_nan[\"Rent\"].fillna(dfHouse_nan[\"Rent\"].median(), inplace=True)\n",
    "# Mengatasi nilai nan dengan cara mengisi nilai nan dengan mean dari data\n",
    "dfHouse_nan[\"Size\"].fillna(dfHouse_nan[\"Size\"].mean(), inplace=True)\n",
    "# Mengatasi nilai nan dengan mengisi nilai nan dengan modus dari data\n",
    "dfHouse_nan[\"Furnishing Status\"].fillna(dfHouse_nan[\"Furnishing Status\"].mode(), inplace=True)\n",
    "\n",
    "#Mengecek nilai null dalam dataset\n",
    "dfHouse_nan.isna().sum()"
   ]
  },
  {
   "cell_type": "markdown",
   "metadata": {},
   "source": [
    "### Membuat nilai duplikat pada dataset"
   ]
  },
  {
   "cell_type": "code",
   "execution_count": 172,
   "metadata": {},
   "outputs": [
    {
     "data": {
      "text/plain": [
       "1"
      ]
     },
     "execution_count": 172,
     "metadata": {},
     "output_type": "execute_result"
    }
   ],
   "source": [
    "dfHouse.iloc[100,:] = dfHouse.iloc[200,:] \n",
    "dfHouse.duplicated().sum()"
   ]
  },
  {
   "cell_type": "markdown",
   "metadata": {},
   "source": [
    "### Mengatasi nilai duplikat pada dataset "
   ]
  },
  {
   "cell_type": "code",
   "execution_count": 173,
   "metadata": {},
   "outputs": [
    {
     "data": {
      "text/plain": [
       "0"
      ]
     },
     "execution_count": 173,
     "metadata": {},
     "output_type": "execute_result"
    }
   ],
   "source": [
    "dfHouse.drop_duplicates(inplace=True) #menghapus nilai dupe\n",
    "dfHouse.duplicated().sum()\n"
   ]
  },
  {
   "cell_type": "markdown",
   "metadata": {},
   "source": [
    "### Mengubah tipe data salah satu tipe atribut "
   ]
  },
  {
   "cell_type": "code",
   "execution_count": 174,
   "metadata": {},
   "outputs": [
    {
     "name": "stdout",
     "output_type": "stream",
     "text": [
      "Sebelum int64\n",
      "Sesudah float64\n"
     ]
    }
   ],
   "source": [
    "print(\"Sebelum\", dfHouse[\"Size\"].dtype)\n",
    "dfHouse[\"Size\"] = dfHouse[\"Size\"].astype(float)\n",
    "print(\"Sesudah\", dfHouse[\"Size\"].dtype)\n"
   ]
  },
  {
   "cell_type": "markdown",
   "metadata": {},
   "source": [
    "### One-Hot encoding "
   ]
  },
  {
   "cell_type": "code",
   "execution_count": 175,
   "metadata": {},
   "outputs": [
    {
     "data": {
      "text/html": [
       "<div>\n",
       "<style scoped>\n",
       "    .dataframe tbody tr th:only-of-type {\n",
       "        vertical-align: middle;\n",
       "    }\n",
       "\n",
       "    .dataframe tbody tr th {\n",
       "        vertical-align: top;\n",
       "    }\n",
       "\n",
       "    .dataframe thead th {\n",
       "        text-align: right;\n",
       "    }\n",
       "</style>\n",
       "<table border=\"1\" class=\"dataframe\">\n",
       "  <thead>\n",
       "    <tr style=\"text-align: right;\">\n",
       "      <th></th>\n",
       "      <th>Posted On</th>\n",
       "      <th>BHK</th>\n",
       "      <th>Rent</th>\n",
       "      <th>Size</th>\n",
       "      <th>Floor</th>\n",
       "      <th>Area Type</th>\n",
       "      <th>Area Locality</th>\n",
       "      <th>City</th>\n",
       "      <th>Furnishing Status</th>\n",
       "      <th>Tenant Preferred</th>\n",
       "      <th>Bathroom</th>\n",
       "      <th>Point of Contact</th>\n",
       "      <th>Tenant Preferred_Bachelors</th>\n",
       "      <th>Tenant Preferred_Bachelors/Family</th>\n",
       "      <th>Tenant Preferred_Family</th>\n",
       "    </tr>\n",
       "  </thead>\n",
       "  <tbody>\n",
       "    <tr>\n",
       "      <th>0</th>\n",
       "      <td>2022-05-18</td>\n",
       "      <td>2</td>\n",
       "      <td>10000</td>\n",
       "      <td>1100.0</td>\n",
       "      <td>Ground out of 2</td>\n",
       "      <td>Super Area</td>\n",
       "      <td>Bandel</td>\n",
       "      <td>Kolkata</td>\n",
       "      <td>Unfurnished</td>\n",
       "      <td>Bachelors/Family</td>\n",
       "      <td>2</td>\n",
       "      <td>Contact Owner</td>\n",
       "      <td>False</td>\n",
       "      <td>True</td>\n",
       "      <td>False</td>\n",
       "    </tr>\n",
       "    <tr>\n",
       "      <th>1</th>\n",
       "      <td>2022-05-13</td>\n",
       "      <td>2</td>\n",
       "      <td>20000</td>\n",
       "      <td>800.0</td>\n",
       "      <td>1 out of 3</td>\n",
       "      <td>Super Area</td>\n",
       "      <td>Phool Bagan, Kankurgachi</td>\n",
       "      <td>Kolkata</td>\n",
       "      <td>Semi-Furnished</td>\n",
       "      <td>Bachelors/Family</td>\n",
       "      <td>1</td>\n",
       "      <td>Contact Owner</td>\n",
       "      <td>False</td>\n",
       "      <td>True</td>\n",
       "      <td>False</td>\n",
       "    </tr>\n",
       "    <tr>\n",
       "      <th>2</th>\n",
       "      <td>2022-05-16</td>\n",
       "      <td>2</td>\n",
       "      <td>17000</td>\n",
       "      <td>1000.0</td>\n",
       "      <td>1 out of 3</td>\n",
       "      <td>Super Area</td>\n",
       "      <td>Salt Lake City Sector 2</td>\n",
       "      <td>Kolkata</td>\n",
       "      <td>Semi-Furnished</td>\n",
       "      <td>Bachelors/Family</td>\n",
       "      <td>1</td>\n",
       "      <td>Contact Owner</td>\n",
       "      <td>False</td>\n",
       "      <td>True</td>\n",
       "      <td>False</td>\n",
       "    </tr>\n",
       "    <tr>\n",
       "      <th>3</th>\n",
       "      <td>2022-07-04</td>\n",
       "      <td>2</td>\n",
       "      <td>10000</td>\n",
       "      <td>800.0</td>\n",
       "      <td>1 out of 2</td>\n",
       "      <td>Super Area</td>\n",
       "      <td>Dumdum Park</td>\n",
       "      <td>Kolkata</td>\n",
       "      <td>Unfurnished</td>\n",
       "      <td>Bachelors/Family</td>\n",
       "      <td>1</td>\n",
       "      <td>Contact Owner</td>\n",
       "      <td>False</td>\n",
       "      <td>True</td>\n",
       "      <td>False</td>\n",
       "    </tr>\n",
       "    <tr>\n",
       "      <th>4</th>\n",
       "      <td>2022-05-09</td>\n",
       "      <td>2</td>\n",
       "      <td>7500</td>\n",
       "      <td>850.0</td>\n",
       "      <td>1 out of 2</td>\n",
       "      <td>Carpet Area</td>\n",
       "      <td>South Dum Dum</td>\n",
       "      <td>Kolkata</td>\n",
       "      <td>Unfurnished</td>\n",
       "      <td>Bachelors</td>\n",
       "      <td>1</td>\n",
       "      <td>Contact Owner</td>\n",
       "      <td>True</td>\n",
       "      <td>False</td>\n",
       "      <td>False</td>\n",
       "    </tr>\n",
       "    <tr>\n",
       "      <th>...</th>\n",
       "      <td>...</td>\n",
       "      <td>...</td>\n",
       "      <td>...</td>\n",
       "      <td>...</td>\n",
       "      <td>...</td>\n",
       "      <td>...</td>\n",
       "      <td>...</td>\n",
       "      <td>...</td>\n",
       "      <td>...</td>\n",
       "      <td>...</td>\n",
       "      <td>...</td>\n",
       "      <td>...</td>\n",
       "      <td>...</td>\n",
       "      <td>...</td>\n",
       "      <td>...</td>\n",
       "    </tr>\n",
       "    <tr>\n",
       "      <th>4741</th>\n",
       "      <td>2022-05-18</td>\n",
       "      <td>2</td>\n",
       "      <td>15000</td>\n",
       "      <td>1000.0</td>\n",
       "      <td>3 out of 5</td>\n",
       "      <td>Carpet Area</td>\n",
       "      <td>Bandam Kommu</td>\n",
       "      <td>Hyderabad</td>\n",
       "      <td>Semi-Furnished</td>\n",
       "      <td>Bachelors/Family</td>\n",
       "      <td>2</td>\n",
       "      <td>Contact Owner</td>\n",
       "      <td>False</td>\n",
       "      <td>True</td>\n",
       "      <td>False</td>\n",
       "    </tr>\n",
       "    <tr>\n",
       "      <th>4742</th>\n",
       "      <td>2022-05-15</td>\n",
       "      <td>3</td>\n",
       "      <td>29000</td>\n",
       "      <td>2000.0</td>\n",
       "      <td>1 out of 4</td>\n",
       "      <td>Super Area</td>\n",
       "      <td>Manikonda, Hyderabad</td>\n",
       "      <td>Hyderabad</td>\n",
       "      <td>Semi-Furnished</td>\n",
       "      <td>Bachelors/Family</td>\n",
       "      <td>3</td>\n",
       "      <td>Contact Owner</td>\n",
       "      <td>False</td>\n",
       "      <td>True</td>\n",
       "      <td>False</td>\n",
       "    </tr>\n",
       "    <tr>\n",
       "      <th>4743</th>\n",
       "      <td>2022-07-10</td>\n",
       "      <td>3</td>\n",
       "      <td>35000</td>\n",
       "      <td>1750.0</td>\n",
       "      <td>3 out of 5</td>\n",
       "      <td>Carpet Area</td>\n",
       "      <td>Himayath Nagar, NH 7</td>\n",
       "      <td>Hyderabad</td>\n",
       "      <td>Semi-Furnished</td>\n",
       "      <td>Bachelors/Family</td>\n",
       "      <td>3</td>\n",
       "      <td>Contact Agent</td>\n",
       "      <td>False</td>\n",
       "      <td>True</td>\n",
       "      <td>False</td>\n",
       "    </tr>\n",
       "    <tr>\n",
       "      <th>4744</th>\n",
       "      <td>2022-07-06</td>\n",
       "      <td>3</td>\n",
       "      <td>45000</td>\n",
       "      <td>1500.0</td>\n",
       "      <td>23 out of 34</td>\n",
       "      <td>Carpet Area</td>\n",
       "      <td>Gachibowli</td>\n",
       "      <td>Hyderabad</td>\n",
       "      <td>Semi-Furnished</td>\n",
       "      <td>Family</td>\n",
       "      <td>2</td>\n",
       "      <td>Contact Agent</td>\n",
       "      <td>False</td>\n",
       "      <td>False</td>\n",
       "      <td>True</td>\n",
       "    </tr>\n",
       "    <tr>\n",
       "      <th>4745</th>\n",
       "      <td>2022-05-04</td>\n",
       "      <td>2</td>\n",
       "      <td>15000</td>\n",
       "      <td>1000.0</td>\n",
       "      <td>4 out of 5</td>\n",
       "      <td>Carpet Area</td>\n",
       "      <td>Suchitra Circle</td>\n",
       "      <td>Hyderabad</td>\n",
       "      <td>Unfurnished</td>\n",
       "      <td>Bachelors</td>\n",
       "      <td>2</td>\n",
       "      <td>Contact Owner</td>\n",
       "      <td>True</td>\n",
       "      <td>False</td>\n",
       "      <td>False</td>\n",
       "    </tr>\n",
       "  </tbody>\n",
       "</table>\n",
       "<p>4745 rows × 15 columns</p>\n",
       "</div>"
      ],
      "text/plain": [
       "       Posted On  BHK   Rent    Size            Floor    Area Type  \\\n",
       "0     2022-05-18    2  10000  1100.0  Ground out of 2   Super Area   \n",
       "1     2022-05-13    2  20000   800.0       1 out of 3   Super Area   \n",
       "2     2022-05-16    2  17000  1000.0       1 out of 3   Super Area   \n",
       "3     2022-07-04    2  10000   800.0       1 out of 2   Super Area   \n",
       "4     2022-05-09    2   7500   850.0       1 out of 2  Carpet Area   \n",
       "...          ...  ...    ...     ...              ...          ...   \n",
       "4741  2022-05-18    2  15000  1000.0       3 out of 5  Carpet Area   \n",
       "4742  2022-05-15    3  29000  2000.0       1 out of 4   Super Area   \n",
       "4743  2022-07-10    3  35000  1750.0       3 out of 5  Carpet Area   \n",
       "4744  2022-07-06    3  45000  1500.0     23 out of 34  Carpet Area   \n",
       "4745  2022-05-04    2  15000  1000.0       4 out of 5  Carpet Area   \n",
       "\n",
       "                 Area Locality       City Furnishing Status  Tenant Preferred  \\\n",
       "0                       Bandel    Kolkata       Unfurnished  Bachelors/Family   \n",
       "1     Phool Bagan, Kankurgachi    Kolkata    Semi-Furnished  Bachelors/Family   \n",
       "2      Salt Lake City Sector 2    Kolkata    Semi-Furnished  Bachelors/Family   \n",
       "3                  Dumdum Park    Kolkata       Unfurnished  Bachelors/Family   \n",
       "4                South Dum Dum    Kolkata       Unfurnished         Bachelors   \n",
       "...                        ...        ...               ...               ...   \n",
       "4741              Bandam Kommu  Hyderabad    Semi-Furnished  Bachelors/Family   \n",
       "4742      Manikonda, Hyderabad  Hyderabad    Semi-Furnished  Bachelors/Family   \n",
       "4743      Himayath Nagar, NH 7  Hyderabad    Semi-Furnished  Bachelors/Family   \n",
       "4744                Gachibowli  Hyderabad    Semi-Furnished            Family   \n",
       "4745           Suchitra Circle  Hyderabad       Unfurnished         Bachelors   \n",
       "\n",
       "      Bathroom Point of Contact  Tenant Preferred_Bachelors  \\\n",
       "0            2    Contact Owner                       False   \n",
       "1            1    Contact Owner                       False   \n",
       "2            1    Contact Owner                       False   \n",
       "3            1    Contact Owner                       False   \n",
       "4            1    Contact Owner                        True   \n",
       "...        ...              ...                         ...   \n",
       "4741         2    Contact Owner                       False   \n",
       "4742         3    Contact Owner                       False   \n",
       "4743         3    Contact Agent                       False   \n",
       "4744         2    Contact Agent                       False   \n",
       "4745         2    Contact Owner                        True   \n",
       "\n",
       "      Tenant Preferred_Bachelors/Family  Tenant Preferred_Family  \n",
       "0                                  True                    False  \n",
       "1                                  True                    False  \n",
       "2                                  True                    False  \n",
       "3                                  True                    False  \n",
       "4                                 False                    False  \n",
       "...                                 ...                      ...  \n",
       "4741                               True                    False  \n",
       "4742                               True                    False  \n",
       "4743                               True                    False  \n",
       "4744                              False                     True  \n",
       "4745                              False                    False  \n",
       "\n",
       "[4745 rows x 15 columns]"
      ]
     },
     "execution_count": 175,
     "metadata": {},
     "output_type": "execute_result"
    }
   ],
   "source": [
    "dfEncoded = dfHouse.join(pd.get_dummies(dfHouse[[\"Tenant Preferred\"]]))\n",
    "\n",
    "dfEncoded"
   ]
  }
 ],
 "metadata": {
  "kernelspec": {
   "display_name": "Python 3",
   "language": "python",
   "name": "python3"
  },
  "language_info": {
   "codemirror_mode": {
    "name": "ipython",
    "version": 3
   },
   "file_extension": ".py",
   "mimetype": "text/x-python",
   "name": "python",
   "nbconvert_exporter": "python",
   "pygments_lexer": "ipython3",
   "version": "3.10.7"
  },
  "orig_nbformat": 4
 },
 "nbformat": 4,
 "nbformat_minor": 2
}
